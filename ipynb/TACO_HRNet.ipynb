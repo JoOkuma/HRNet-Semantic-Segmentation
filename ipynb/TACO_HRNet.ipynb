{
  "nbformat": 4,
  "nbformat_minor": 0,
  "metadata": {
    "colab": {
      "name": "TACO-HRNet.ipynb",
      "provenance": [],
      "collapsed_sections": []
    },
    "kernelspec": {
      "name": "python3",
      "display_name": "Python 3"
    },
    "accelerator": "GPU"
  },
  "cells": [
    {
      "cell_type": "markdown",
      "metadata": {
        "id": "UdA1y4RLo2cA"
      },
      "source": [
        "### **1. Installing TACO/HRNet dependencies**\n",
        "\n",
        "*observation:* to make sure that they were satisfied, run twice!"
      ]
    },
    {
      "cell_type": "code",
      "metadata": {
        "colab": {
          "base_uri": "https://localhost:8080/"
        },
        "id": "W_l-wYM1qu88",
        "outputId": "13082b2f-d65a-4f3e-8c93-247a9c8d651e"
      },
      "source": [
        "!pip3 install --upgrade pip\n",
        "!pip3 install setuptools\n",
        "!pip3 install imgaug==0.4.0\n",
        "!pip3 install EasyDict==1.7\n",
        "!pip3 install opencv-python==3.4.2.17\n",
        "!pip3 install shapely==1.6.4\n",
        "!pip3 install Cython\n",
        "!pip3 install scipy\n",
        "!pip3 install pandas\n",
        "!pip3 install pyyaml\n",
        "!pip3 install json_tricks\n",
        "!pip3 install scikit-image\n",
        "!pip3 install yacs>=0.1.5\n",
        "!pip3 install tensorboardX>=1.6\n",
        "!pip3 install tqdm\n",
        "!pip3 install ninja\n",
        "!pip3 install PyDrive"
      ],
      "execution_count": 2,
      "outputs": [
        {
          "output_type": "stream",
          "text": [
            "Requirement already satisfied: pip in /usr/local/lib/python3.6/dist-packages (20.3.3)\n",
            "Requirement already satisfied: setuptools in /usr/local/lib/python3.6/dist-packages (51.1.1)\n",
            "Requirement already satisfied: imgaug==0.4.0 in /usr/local/lib/python3.6/dist-packages (0.4.0)\n",
            "Requirement already satisfied: opencv-python in /usr/local/lib/python3.6/dist-packages (from imgaug==0.4.0) (3.4.2.17)\n",
            "Requirement already satisfied: numpy>=1.15 in /usr/local/lib/python3.6/dist-packages (from imgaug==0.4.0) (1.19.5)\n",
            "Requirement already satisfied: Shapely in /usr/local/lib/python3.6/dist-packages (from imgaug==0.4.0) (1.6.4)\n",
            "Requirement already satisfied: imageio in /usr/local/lib/python3.6/dist-packages (from imgaug==0.4.0) (2.4.1)\n",
            "Requirement already satisfied: matplotlib in /usr/local/lib/python3.6/dist-packages (from imgaug==0.4.0) (3.2.2)\n",
            "Requirement already satisfied: Pillow in /usr/local/lib/python3.6/dist-packages (from imgaug==0.4.0) (7.0.0)\n",
            "Requirement already satisfied: scipy in /usr/local/lib/python3.6/dist-packages (from imgaug==0.4.0) (1.4.1)\n",
            "Requirement already satisfied: scikit-image>=0.14.2 in /usr/local/lib/python3.6/dist-packages (from imgaug==0.4.0) (0.16.2)\n",
            "Requirement already satisfied: six in /usr/local/lib/python3.6/dist-packages (from imgaug==0.4.0) (1.15.0)\n",
            "Requirement already satisfied: PyWavelets>=0.4.0 in /usr/local/lib/python3.6/dist-packages (from scikit-image>=0.14.2->imgaug==0.4.0) (1.1.1)\n",
            "Requirement already satisfied: networkx>=2.0 in /usr/local/lib/python3.6/dist-packages (from scikit-image>=0.14.2->imgaug==0.4.0) (2.5)\n",
            "Requirement already satisfied: kiwisolver>=1.0.1 in /usr/local/lib/python3.6/dist-packages (from matplotlib->imgaug==0.4.0) (1.3.1)\n",
            "Requirement already satisfied: python-dateutil>=2.1 in /usr/local/lib/python3.6/dist-packages (from matplotlib->imgaug==0.4.0) (2.8.1)\n",
            "Requirement already satisfied: cycler>=0.10 in /usr/local/lib/python3.6/dist-packages (from matplotlib->imgaug==0.4.0) (0.10.0)\n",
            "Requirement already satisfied: pyparsing!=2.0.4,!=2.1.2,!=2.1.6,>=2.0.1 in /usr/local/lib/python3.6/dist-packages (from matplotlib->imgaug==0.4.0) (2.4.7)\n",
            "Requirement already satisfied: decorator>=4.3.0 in /usr/local/lib/python3.6/dist-packages (from networkx>=2.0->scikit-image>=0.14.2->imgaug==0.4.0) (4.4.2)\n",
            "Requirement already satisfied: EasyDict==1.7 in /usr/local/lib/python3.6/dist-packages (1.7)\n",
            "Requirement already satisfied: opencv-python==3.4.2.17 in /usr/local/lib/python3.6/dist-packages (3.4.2.17)\n",
            "Requirement already satisfied: numpy>=1.11.3 in /usr/local/lib/python3.6/dist-packages (from opencv-python==3.4.2.17) (1.19.5)\n",
            "Requirement already satisfied: shapely==1.6.4 in /usr/local/lib/python3.6/dist-packages (1.6.4)\n",
            "Requirement already satisfied: Cython in /usr/local/lib/python3.6/dist-packages (0.29.21)\n",
            "Requirement already satisfied: scipy in /usr/local/lib/python3.6/dist-packages (1.4.1)\n",
            "Requirement already satisfied: numpy>=1.13.3 in /usr/local/lib/python3.6/dist-packages (from scipy) (1.19.5)\n",
            "Requirement already satisfied: pandas in /usr/local/lib/python3.6/dist-packages (1.1.5)\n",
            "Requirement already satisfied: python-dateutil>=2.7.3 in /usr/local/lib/python3.6/dist-packages (from pandas) (2.8.1)\n",
            "Requirement already satisfied: pytz>=2017.2 in /usr/local/lib/python3.6/dist-packages (from pandas) (2018.9)\n",
            "Requirement already satisfied: numpy>=1.15.4 in /usr/local/lib/python3.6/dist-packages (from pandas) (1.19.5)\n",
            "Requirement already satisfied: six>=1.5 in /usr/local/lib/python3.6/dist-packages (from python-dateutil>=2.7.3->pandas) (1.15.0)\n",
            "Requirement already satisfied: pyyaml in /usr/local/lib/python3.6/dist-packages (3.13)\n",
            "Requirement already satisfied: json_tricks in /usr/local/lib/python3.6/dist-packages (3.15.5)\n",
            "Requirement already satisfied: scikit-image in /usr/local/lib/python3.6/dist-packages (0.16.2)\n",
            "Requirement already satisfied: PyWavelets>=0.4.0 in /usr/local/lib/python3.6/dist-packages (from scikit-image) (1.1.1)\n",
            "Requirement already satisfied: pillow>=4.3.0 in /usr/local/lib/python3.6/dist-packages (from scikit-image) (7.0.0)\n",
            "Requirement already satisfied: matplotlib!=3.0.0,>=2.0.0 in /usr/local/lib/python3.6/dist-packages (from scikit-image) (3.2.2)\n",
            "Requirement already satisfied: scipy>=0.19.0 in /usr/local/lib/python3.6/dist-packages (from scikit-image) (1.4.1)\n",
            "Requirement already satisfied: networkx>=2.0 in /usr/local/lib/python3.6/dist-packages (from scikit-image) (2.5)\n",
            "Requirement already satisfied: imageio>=2.3.0 in /usr/local/lib/python3.6/dist-packages (from scikit-image) (2.4.1)\n",
            "Requirement already satisfied: numpy in /usr/local/lib/python3.6/dist-packages (from imageio>=2.3.0->scikit-image) (1.19.5)\n",
            "Requirement already satisfied: kiwisolver>=1.0.1 in /usr/local/lib/python3.6/dist-packages (from matplotlib!=3.0.0,>=2.0.0->scikit-image) (1.3.1)\n",
            "Requirement already satisfied: python-dateutil>=2.1 in /usr/local/lib/python3.6/dist-packages (from matplotlib!=3.0.0,>=2.0.0->scikit-image) (2.8.1)\n",
            "Requirement already satisfied: pyparsing!=2.0.4,!=2.1.2,!=2.1.6,>=2.0.1 in /usr/local/lib/python3.6/dist-packages (from matplotlib!=3.0.0,>=2.0.0->scikit-image) (2.4.7)\n",
            "Requirement already satisfied: cycler>=0.10 in /usr/local/lib/python3.6/dist-packages (from matplotlib!=3.0.0,>=2.0.0->scikit-image) (0.10.0)\n",
            "Requirement already satisfied: six in /usr/local/lib/python3.6/dist-packages (from cycler>=0.10->matplotlib!=3.0.0,>=2.0.0->scikit-image) (1.15.0)\n",
            "Requirement already satisfied: decorator>=4.3.0 in /usr/local/lib/python3.6/dist-packages (from networkx>=2.0->scikit-image) (4.4.2)\n",
            "Requirement already satisfied: tqdm in /usr/local/lib/python3.6/dist-packages (4.41.1)\n",
            "Requirement already satisfied: ninja in /usr/local/lib/python3.6/dist-packages (1.10.0.post2)\n",
            "Requirement already satisfied: PyDrive in /usr/local/lib/python3.6/dist-packages (1.3.1)\n",
            "Requirement already satisfied: PyYAML>=3.0 in /usr/local/lib/python3.6/dist-packages (from PyDrive) (3.13)\n",
            "Requirement already satisfied: oauth2client>=4.0.0 in /usr/local/lib/python3.6/dist-packages (from PyDrive) (4.1.3)\n",
            "Requirement already satisfied: google-api-python-client>=1.2 in /usr/local/lib/python3.6/dist-packages (from PyDrive) (1.7.12)\n",
            "Requirement already satisfied: httplib2<1dev,>=0.17.0 in /usr/local/lib/python3.6/dist-packages (from google-api-python-client>=1.2->PyDrive) (0.17.4)\n",
            "Requirement already satisfied: google-auth>=1.4.1 in /usr/local/lib/python3.6/dist-packages (from google-api-python-client>=1.2->PyDrive) (1.17.2)\n",
            "Requirement already satisfied: six<2dev,>=1.6.1 in /usr/local/lib/python3.6/dist-packages (from google-api-python-client>=1.2->PyDrive) (1.15.0)\n",
            "Requirement already satisfied: google-auth-httplib2>=0.0.3 in /usr/local/lib/python3.6/dist-packages (from google-api-python-client>=1.2->PyDrive) (0.0.4)\n",
            "Requirement already satisfied: uritemplate<4dev,>=3.0.0 in /usr/local/lib/python3.6/dist-packages (from google-api-python-client>=1.2->PyDrive) (3.0.1)\n",
            "Requirement already satisfied: rsa<5,>=3.1.4 in /usr/local/lib/python3.6/dist-packages (from google-auth>=1.4.1->google-api-python-client>=1.2->PyDrive) (4.6)\n",
            "Requirement already satisfied: pyasn1-modules>=0.2.1 in /usr/local/lib/python3.6/dist-packages (from google-auth>=1.4.1->google-api-python-client>=1.2->PyDrive) (0.2.8)\n",
            "Requirement already satisfied: setuptools>=40.3.0 in /usr/local/lib/python3.6/dist-packages (from google-auth>=1.4.1->google-api-python-client>=1.2->PyDrive) (51.1.1)\n",
            "Requirement already satisfied: cachetools<5.0,>=2.0.0 in /usr/local/lib/python3.6/dist-packages (from google-auth>=1.4.1->google-api-python-client>=1.2->PyDrive) (4.2.0)\n",
            "Requirement already satisfied: pyasn1>=0.1.7 in /usr/local/lib/python3.6/dist-packages (from oauth2client>=4.0.0->PyDrive) (0.4.8)\n"
          ],
          "name": "stdout"
        }
      ]
    },
    {
      "cell_type": "markdown",
      "metadata": {
        "id": "KTueAySKprOb"
      },
      "source": [
        "### **2. Downloading TACO and splitting the dataset**"
      ]
    },
    {
      "cell_type": "code",
      "metadata": {
        "colab": {
          "base_uri": "https://localhost:8080/"
        },
        "id": "I0e1h0jrtPjz",
        "outputId": "dfbd493a-7ba1-4e22-a38f-5e2dd3c3d2dc"
      },
      "source": [
        "!git clone https://github.com/pedropro/TACO.git /TACO/\n",
        "%cd /TACO/\n",
        "!python3 download.py\n",
        "!cd /TACO/detector && python3 split_dataset.py --dataset_dir ../data/\n",
        "%cd /content/"
      ],
      "execution_count": 3,
      "outputs": [
        {
          "output_type": "stream",
          "text": [
            "Cloning into '/TACO'...\n",
            "remote: Enumerating objects: 35, done.\u001b[K\n",
            "remote: Counting objects: 100% (35/35), done.\u001b[K\n",
            "remote: Compressing objects: 100% (25/25), done.\u001b[K\n",
            "remote: Total 305 (delta 22), reused 21 (delta 10), pack-reused 270\u001b[K\n",
            "Receiving objects: 100% (305/305), 59.46 MiB | 35.69 MiB/s, done.\n",
            "Resolving deltas: 100% (173/173), done.\n",
            "/TACO\n",
            "Note. If for any reason the connection is broken. Just call me again and I will start where I left.\n",
            "Finished\n",
            "/content\n"
          ],
          "name": "stdout"
        }
      ]
    },
    {
      "cell_type": "markdown",
      "metadata": {
        "id": "zO2HUvRPyMwT"
      },
      "source": [
        "### **3. Downloading HRNet Architecture**"
      ]
    },
    {
      "cell_type": "code",
      "metadata": {
        "colab": {
          "base_uri": "https://localhost:8080/"
        },
        "id": "djN1VPxzu7Qo",
        "outputId": "00dc78c2-e6d9-4598-f6f1-cfddaf5c81a6"
      },
      "source": [
        "!rm -rf HRNet\n",
        "!git clone https://github.com/JoOkuma/HRNet-Semantic-Segmentation.git -b pytorch-v1.1 HRNet"
      ],
      "execution_count": 4,
      "outputs": [
        {
          "output_type": "stream",
          "text": [
            "Cloning into 'HRNet'...\n",
            "remote: Enumerating objects: 52, done.\u001b[K\n",
            "remote: Counting objects:   1% (1/52)\u001b[K\rremote: Counting objects:   3% (2/52)\u001b[K\rremote: Counting objects:   5% (3/52)\u001b[K\rremote: Counting objects:   7% (4/52)\u001b[K\rremote: Counting objects:   9% (5/52)\u001b[K\rremote: Counting objects:  11% (6/52)\u001b[K\rremote: Counting objects:  13% (7/52)\u001b[K\rremote: Counting objects:  15% (8/52)\u001b[K\rremote: Counting objects:  17% (9/52)\u001b[K\rremote: Counting objects:  19% (10/52)\u001b[K\rremote: Counting objects:  21% (11/52)\u001b[K\rremote: Counting objects:  23% (12/52)\u001b[K\rremote: Counting objects:  25% (13/52)\u001b[K\rremote: Counting objects:  26% (14/52)\u001b[K\rremote: Counting objects:  28% (15/52)\u001b[K\rremote: Counting objects:  30% (16/52)\u001b[K\rremote: Counting objects:  32% (17/52)\u001b[K\rremote: Counting objects:  34% (18/52)\u001b[K\rremote: Counting objects:  36% (19/52)\u001b[K\rremote: Counting objects:  38% (20/52)\u001b[K\rremote: Counting objects:  40% (21/52)\u001b[K\rremote: Counting objects:  42% (22/52)\u001b[K\rremote: Counting objects:  44% (23/52)\u001b[K\rremote: Counting objects:  46% (24/52)\u001b[K\rremote: Counting objects:  48% (25/52)\u001b[K\rremote: Counting objects:  50% (26/52)\u001b[K\rremote: Counting objects:  51% (27/52)\u001b[K\rremote: Counting objects:  53% (28/52)\u001b[K\rremote: Counting objects:  55% (29/52)\u001b[K\rremote: Counting objects:  57% (30/52)\u001b[K\rremote: Counting objects:  59% (31/52)\u001b[K\rremote: Counting objects:  61% (32/52)\u001b[K\rremote: Counting objects:  63% (33/52)\u001b[K\rremote: Counting objects:  65% (34/52)\u001b[K\rremote: Counting objects:  67% (35/52)\u001b[K\rremote: Counting objects:  69% (36/52)\u001b[K\rremote: Counting objects:  71% (37/52)\u001b[K\rremote: Counting objects:  73% (38/52)\u001b[K\rremote: Counting objects:  75% (39/52)\u001b[K\rremote: Counting objects:  76% (40/52)\u001b[K\rremote: Counting objects:  78% (41/52)\u001b[K\rremote: Counting objects:  80% (42/52)\u001b[K\rremote: Counting objects:  82% (43/52)\u001b[K\rremote: Counting objects:  84% (44/52)\u001b[K\rremote: Counting objects:  86% (45/52)\u001b[K\rremote: Counting objects:  88% (46/52)\u001b[K\rremote: Counting objects:  90% (47/52)\u001b[K\rremote: Counting objects:  92% (48/52)\u001b[K\rremote: Counting objects:  94% (49/52)\u001b[K\rremote: Counting objects:  96% (50/52)\u001b[K\rremote: Counting objects:  98% (51/52)\u001b[K\rremote: Counting objects: 100% (52/52)\u001b[K\rremote: Counting objects: 100% (52/52), done.\u001b[K\n",
            "remote: Compressing objects: 100% (30/30), done.\u001b[K\n",
            "remote: Total 1270 (delta 25), reused 39 (delta 21), pack-reused 1218\u001b[K\n",
            "Receiving objects: 100% (1270/1270), 1.26 MiB | 17.19 MiB/s, done.\n",
            "Resolving deltas: 100% (783/783), done.\n"
          ],
          "name": "stdout"
        }
      ]
    },
    {
      "cell_type": "markdown",
      "metadata": {
        "id": "LCsJSYAsyVZJ"
      },
      "source": [
        "### **4. Executing HRNet Training with TACO**"
      ]
    },
    {
      "cell_type": "code",
      "metadata": {
        "colab": {
          "base_uri": "https://localhost:8080/"
        },
        "id": "f9G7yQju4SPX",
        "outputId": "8d1add2b-38f7-4695-ac3b-e94d3c43f474"
      },
      "source": [
        "%cd /content/HRNet\n",
        "!python3 -m torch.distributed.launch tools/train.py --cfg experiments/taco/seg_hrnet_w48_cls5_720x720_sgd_lr4e-3_wd1e-4_bs_16_epoch200.yaml OUTPUT_DIR output1.6.0\n",
        "%cd .."
      ],
      "execution_count": null,
      "outputs": [
        {
          "output_type": "stream",
          "text": [
            "/content/HRNet\n",
            "=> creating output1.6.0\n",
            "=> creating output1.6.0/taco/seg_hrnet_w48_cls5_720x720_sgd_lr4e-3_wd1e-4_bs_16_epoch200\n",
            "=> creating log/taco/seg_hrnet/seg_hrnet_w48_cls5_720x720_sgd_lr4e-3_wd1e-4_bs_16_epoch200_2021-01-19-03-41\n",
            "Namespace(cfg='experiments/taco/seg_hrnet_w48_cls5_720x720_sgd_lr4e-3_wd1e-4_bs_16_epoch200.yaml', local_rank=0, opts=['OUTPUT_DIR', 'output1.6.0'])\n",
            "AUTO_RESUME: False\n",
            "CUDNN:\n",
            "  BENCHMARK: True\n",
            "  DETERMINISTIC: False\n",
            "  ENABLED: True\n",
            "DATASET:\n",
            "  DATASET: taco\n",
            "  EXTRA_TRAIN_SET: \n",
            "  NUM_CLASSES: 5\n",
            "  ROOT: /TACO/data/\n",
            "  TEST_SET: val\n",
            "  TRAIN_SET: train\n",
            "DEBUG:\n",
            "  DEBUG: False\n",
            "  SAVE_BATCH_IMAGES_GT: False\n",
            "  SAVE_BATCH_IMAGES_PRED: False\n",
            "  SAVE_HEATMAPS_GT: False\n",
            "  SAVE_HEATMAPS_PRED: False\n",
            "GPUS: (0, 1, 2, 3, 4, 5, 6, 7)\n",
            "LOG_DIR: log\n",
            "LOSS:\n",
            "  CLASS_BALANCE: True\n",
            "  OHEMKEEP: 131072\n",
            "  OHEMTHRES: 0.9\n",
            "  USE_OHEM: False\n",
            "MODEL:\n",
            "  EXTRA:\n",
            "    FINAL_CONV_KERNEL: 1\n",
            "    STAGE1:\n",
            "      BLOCK: BOTTLENECK\n",
            "      FUSE_METHOD: SUM\n",
            "      NUM_BLOCKS: [4]\n",
            "      NUM_CHANNELS: [64]\n",
            "      NUM_MODULES: 1\n",
            "      NUM_RANCHES: 1\n",
            "    STAGE2:\n",
            "      BLOCK: BASIC\n",
            "      FUSE_METHOD: SUM\n",
            "      NUM_BLOCKS: [4, 4]\n",
            "      NUM_BRANCHES: 2\n",
            "      NUM_CHANNELS: [48, 96]\n",
            "      NUM_MODULES: 1\n",
            "    STAGE3:\n",
            "      BLOCK: BASIC\n",
            "      FUSE_METHOD: SUM\n",
            "      NUM_BLOCKS: [4, 4, 4]\n",
            "      NUM_BRANCHES: 3\n",
            "      NUM_CHANNELS: [48, 96, 192]\n",
            "      NUM_MODULES: 4\n",
            "    STAGE4:\n",
            "      BLOCK: BASIC\n",
            "      FUSE_METHOD: SUM\n",
            "      NUM_BLOCKS: [4, 4, 4, 4]\n",
            "      NUM_BRANCHES: 4\n",
            "      NUM_CHANNELS: [48, 96, 192, 384]\n",
            "      NUM_MODULES: 3\n",
            "  NAME: seg_hrnet\n",
            "  PRETRAINED: pretrained_models/hrnetv2_w48_imagenet_pretrained.pth\n",
            "OUTPUT_DIR: output1.6.0\n",
            "PIN_MEMORY: True\n",
            "PRINT_FREQ: 70\n",
            "RANK: 0\n",
            "TEST:\n",
            "  BASE_SIZE: 1080\n",
            "  BATCH_SIZE_PER_GPU: 16\n",
            "  CENTER_CROP_TEST: False\n",
            "  FLIP_TEST: False\n",
            "  IMAGE_SIZE: [720, 720]\n",
            "  MODEL_FILE: \n",
            "  MULTI_SCALE: False\n",
            "  NUM_SAMPLES: 0\n",
            "  SCALE_LIST: [1]\n",
            "TRAIN:\n",
            "  BASE_SIZE: 1080\n",
            "  BATCH_SIZE_PER_GPU: 2\n",
            "  BEGIN_EPOCH: 0\n",
            "  DOWNSAMPLERATE: 1\n",
            "  END_EPOCH: 200\n",
            "  EXTRA_EPOCH: 0\n",
            "  EXTRA_LR: 0.001\n",
            "  FLIP: True\n",
            "  IGNORE_LABEL: -1\n",
            "  IMAGE_SIZE: [720, 720]\n",
            "  LR: 0.004\n",
            "  LR_FACTOR: 0.1\n",
            "  LR_STEP: [90, 110]\n",
            "  MOMENTUM: 0.9\n",
            "  MULTI_SCALE: True\n",
            "  NESTEROV: False\n",
            "  NUM_SAMPLES: 0\n",
            "  OPTIMIZER: sgd\n",
            "  RESUME: False\n",
            "  SCALE_FACTOR: 16\n",
            "  SHUFFLE: True\n",
            "  WD: 0.0001\n",
            "WORKERS: 8\n",
            "=> init weights from normal distribution\n",
            "/usr/local/lib/python3.6/dist-packages/torch/nn/functional.py:3063: UserWarning: Default upsampling behavior when mode=bilinear is changed to align_corners=False since 0.4.0. Please specify align_corners=True if the old behavior is desired. See the documentation of nn.Upsample for details.\n",
            "  \"See the documentation of nn.Upsample for details.\".format(mode))\n",
            "/usr/local/lib/python3.6/dist-packages/torch/nn/functional.py:2952: UserWarning: nn.functional.upsample is deprecated. Use nn.functional.interpolate instead.\n",
            "  warnings.warn(\"nn.functional.upsample is deprecated. Use nn.functional.interpolate instead.\")\n",
            "\n",
            "Total Parameters: 65,849,285\n",
            "----------------------------------------------------------------------------------------------------------------------------------\n",
            "Total Multiply Adds (For Convolution and Linear Layers only): 172.55609321594238 GFLOPs\n",
            "----------------------------------------------------------------------------------------------------------------------------------\n",
            "Number of Layers\n",
            "Conv2d : 307 layers   BatchNorm2d : 306 layers   ReLU : 269 layers   Bottleneck : 4 layers   BasicBlock : 104 layers   HighResolutionModule : 8 layers   \n",
            "loading annotations into memory...\n",
            "Done (t=0.04s)\n",
            "creating index...\n",
            "index created!\n",
            "loading annotations into memory...\n",
            "Done (t=0.01s)\n",
            "creating index...\n",
            "index created!\n",
            "Epoch: [0/200] Iter:[0/75], Time: 19.74, lr: 0.004000, Loss: 1.612396\n",
            "Reducer buckets have been rebuilt in this iteration.\n",
            "Epoch: [0/200] Iter:[70/75], Time: 1.34, lr: 0.003983, Loss: 0.600807\n",
            "Epoch: [0/200] Iter:[140/75], Time: 1.21, lr: 0.003966, Loss: 0.469416\n",
            "Epoch: [0/200] Iter:[210/75], Time: 1.18, lr: 0.003950, Loss: 0.459532\n",
            "Epoch: [0/200] Iter:[280/75], Time: 1.16, lr: 0.003933, Loss: 0.445200\n",
            "Epoch: [0/200] Iter:[350/75], Time: 1.15, lr: 0.003916, Loss: 0.421688\n",
            "Epoch: [0/200] Iter:[420/75], Time: 1.15, lr: 0.003899, Loss: 0.396573\n",
            "Epoch: [0/200] Iter:[490/75], Time: 1.16, lr: 0.003882, Loss: 0.382929\n",
            "Epoch: [0/200] Iter:[560/75], Time: 1.15, lr: 0.003865, Loss: 0.392796\n",
            "=> saving checkpoint to output1.6.0/taco/seg_hrnet_w48_cls5_720x720_sgd_lr4e-3_wd1e-4_bs_16_epoch200checkpoint.pth.tar\n",
            "Loss: 0.225, MeanIU:  0.1911, Best_mIoU:  0.1911\n",
            "[0.95542526 0.         0.         0.         0.        ]\n",
            "Epoch: [1/200] Iter:[0/75], Time: 9.20, lr: 0.003982, Loss: 0.053911\n",
            "Epoch: [1/200] Iter:[70/75], Time: 1.50, lr: 0.003965, Loss: 0.365122\n",
            "Epoch: [1/200] Iter:[140/75], Time: 1.33, lr: 0.003948, Loss: 0.350358\n",
            "Epoch: [1/200] Iter:[210/75], Time: 1.26, lr: 0.003932, Loss: 0.338045\n",
            "Epoch: [1/200] Iter:[280/75], Time: 1.22, lr: 0.003915, Loss: 0.351664\n"
          ],
          "name": "stdout"
        }
      ]
    },
    {
      "cell_type": "markdown",
      "metadata": {
        "id": "1TWi2_PeyeUr"
      },
      "source": [
        "### **5. Executing HRNet Test with TACO**"
      ]
    },
    {
      "cell_type": "code",
      "metadata": {
        "id": "VxFJ7F933OOL"
      },
      "source": [
        "%cd /content/HRNet\n",
        "!python3 tools/test.py --cfg experiments/taco/seg_hrnet_w48_cls5_720x720_sgd_lr4e-3_wd1e-4_bs_16_epoch200.yaml TEST.MODEL_FILE output/taco/seg_hrnet_w48_cls5_720x720_sgd_lr4e-3_wd1e-4_bs_16_epoch200/final_state.pth TEST.BATCH_SIZE_PER_GPU 32\n",
        "%cd ../"
      ],
      "execution_count": null,
      "outputs": []
    }
  ]
}